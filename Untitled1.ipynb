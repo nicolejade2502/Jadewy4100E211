{
  "nbformat": 4,
  "nbformat_minor": 0,
  "metadata": {
    "colab": {
      "name": "Untitled1.ipynb",
      "provenance": [],
      "authorship_tag": "ABX9TyNt4oS532DBH/9FrP3QBI0W",
      "include_colab_link": true
    },
    "kernelspec": {
      "name": "python3",
      "display_name": "Python 3"
    },
    "language_info": {
      "name": "python"
    }
  },
  "cells": [
    {
      "cell_type": "markdown",
      "metadata": {
        "id": "view-in-github",
        "colab_type": "text"
      },
      "source": [
        "<a href=\"https://colab.research.google.com/github/nicolejade2502/Jadewy4100E211/blob/main/Untitled1.ipynb\" target=\"_parent\"><img src=\"https://colab.research.google.com/assets/colab-badge.svg\" alt=\"Open In Colab\"/></a>"
      ]
    },
    {
      "cell_type": "code",
      "metadata": {
        "colab": {
          "base_uri": "https://localhost:8080/"
        },
        "id": "DcXtdTY0RPYt",
        "outputId": "6678e15e-4d51-4508-a0d6-ea7660214d0d"
      },
      "source": [
        "def sum(i1, i2,i3):\n",
        "  result = 0\n",
        "  for i in range(i1, i2, i3):\n",
        "      result += i\n",
        "      return result\n",
        "\n",
        "def main ():\n",
        "  print(\"Sum from 5 to 30 is\", sum(5, 30, 1))\n",
        "  print(\"sum from 22 to 50 is\", sum(3, 50, 2))\n",
        "  print(\"sum from 10 to 40 is\",sum(7, 40, 3))\n",
        "\n",
        "main() # Call the main function"
      ],
      "execution_count": 53,
      "outputs": [
        {
          "output_type": "stream",
          "name": "stdout",
          "text": [
            "Sum from 5 to 30 is 5\n",
            "sum from 22 to 50 is 3\n",
            "sum from 10 to 40 is 7\n"
          ]
        }
      ]
    },
    {
      "cell_type": "code",
      "metadata": {
        "colab": {
          "base_uri": "https://localhost:8080/"
        },
        "id": "zl9-b_dfRzWr",
        "outputId": "efeaa848-41ad-42b0-c9f5-13f534a13257"
      },
      "source": [
        "def swap(k,n):\n",
        "  k,n = n,k\n",
        "  return(k,n)\n",
        "\n",
        "if __name__ == '__main__':\n",
        "  k = 19\n",
        "  n = 25\n",
        "  print('k = %d,n = %d' % (k,n))\n",
        "  k,n = swap(k,n)\n",
        "  print('k = %d,n = %d' % (k,n))"
      ],
      "execution_count": 21,
      "outputs": [
        {
          "output_type": "stream",
          "name": "stdout",
          "text": [
            "k = 19,n = 25\n",
            "k = 25,n = 19\n"
          ]
        }
      ]
    },
    {
      "cell_type": "code",
      "metadata": {
        "colab": {
          "base_uri": "https://localhost:8080/"
        },
        "id": "9J-9vFaFYWv7",
        "outputId": "77c3aebf-ed3d-441a-bbf2-125ff2396f4b"
      },
      "source": [
        "def sort(number1, number2, number3):\n",
        "    if (number1 < number2) and (number1 < number3):\n",
        "      if number2 < number3:\n",
        "        return number1, number2,number3\n",
        "      else:\n",
        "        return number1, number3,number2\n",
        "    if (number2 < number1) and (number2 < number3):\n",
        "      if number1 < number3:\n",
        "        return number2, number1,number3\n",
        "      else:\n",
        "        return number2, number3,number1    \n",
        "    if (number3 < number1) and (number3 < number2):\n",
        "      if number1 < number2:\n",
        "        return number3, number1,number2\n",
        "      else:\n",
        "        return number3, number2,number1 \n",
        "        \n",
        "num1,num2,num3 = sort(3,31,20)\n",
        "\n",
        "print(\"num1 is\", num1)\n",
        "print(\"num2 is\", num2)\n",
        "print(\"num3 is\", num3)"
      ],
      "execution_count": 51,
      "outputs": [
        {
          "output_type": "stream",
          "name": "stdout",
          "text": [
            "num1 is 3\n",
            "num2 is 20\n",
            "num3 is 31\n"
          ]
        }
      ]
    },
    {
      "cell_type": "code",
      "metadata": {
        "id": "QNAHKpKaYcvl"
      },
      "source": [
        ""
      ],
      "execution_count": null,
      "outputs": []
    }
  ]
}