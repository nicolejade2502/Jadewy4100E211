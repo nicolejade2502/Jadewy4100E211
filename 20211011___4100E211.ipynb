{
  "nbformat": 4,
  "nbformat_minor": 0,
  "metadata": {
    "colab": {
      "name": "20211011- _ 4100E211.ipynb",
      "provenance": [],
      "collapsed_sections": [],
      "toc_visible": true,
      "authorship_tag": "ABX9TyPaBo+y1YfSGE7mO2fS4ias",
      "include_colab_link": true
    },
    "kernelspec": {
      "name": "python3",
      "display_name": "Python 3"
    },
    "language_info": {
      "name": "python"
    }
  },
  "cells": [
    {
      "cell_type": "markdown",
      "metadata": {
        "id": "view-in-github",
        "colab_type": "text"
      },
      "source": [
        "<a href=\"https://colab.research.google.com/github/nicolejade2502/Jadewy4100E211/blob/main/20211011___4100E211.ipynb\" target=\"_parent\"><img src=\"https://colab.research.google.com/assets/colab-badge.svg\" alt=\"Open In Colab\"/></a>"
      ]
    },
    {
      "cell_type": "markdown",
      "metadata": {
        "id": "Gpad7hcxFfaQ"
      },
      "source": [
        "### **# Numerics Data Type**\n",
        "\n",
        "20211011\n",
        "\n",
        "Name: Nicole Jade D. Fernade"
      ]
    },
    {
      "cell_type": "markdown",
      "metadata": {
        "id": "sx9mHZ91oEKs"
      },
      "source": [
        "## **Arithmetic Operators**"
      ]
    },
    {
      "cell_type": "code",
      "metadata": {
        "colab": {
          "base_uri": "https://localhost:8080/"
        },
        "id": "ajmBBB3mDrqa",
        "outputId": "a58bd21e-a85c-4517-d6f7-b4612632c0a2"
      },
      "source": [
        "a = 25 / 4\n",
        "a"
      ],
      "execution_count": null,
      "outputs": [
        {
          "output_type": "execute_result",
          "data": {
            "text/plain": [
              "6.25"
            ]
          },
          "metadata": {},
          "execution_count": 20
        }
      ]
    },
    {
      "cell_type": "code",
      "metadata": {
        "colab": {
          "base_uri": "https://localhost:8080/"
        },
        "id": "ubDEEyuzD7em",
        "outputId": "43abea3c-632f-4cb2-c6ae-3c4a81817006"
      },
      "source": [
        "b = 25 // 4\n",
        "b"
      ],
      "execution_count": null,
      "outputs": [
        {
          "output_type": "execute_result",
          "data": {
            "text/plain": [
              "6"
            ]
          },
          "metadata": {},
          "execution_count": 21
        }
      ]
    },
    {
      "cell_type": "code",
      "metadata": {
        "colab": {
          "base_uri": "https://localhost:8080/"
        },
        "id": "YabKOYylEEL3",
        "outputId": "5c441a15-3c1c-4090-a5e3-2a03670f75bb"
      },
      "source": [
        "c = 25 % 4\n",
        "c"
      ],
      "execution_count": null,
      "outputs": [
        {
          "output_type": "execute_result",
          "data": {
            "text/plain": [
              "1"
            ]
          },
          "metadata": {},
          "execution_count": 23
        }
      ]
    },
    {
      "cell_type": "markdown",
      "metadata": {
        "id": "56Uq7HbvERZU"
      },
      "source": [
        "### **Logic Operators**\n"
      ]
    },
    {
      "cell_type": "code",
      "metadata": {
        "colab": {
          "base_uri": "https://localhost:8080/"
        },
        "id": "XvEbzHl7EviD",
        "outputId": "21c27766-7e87-40ec-a45e-4f49def321d7"
      },
      "source": [
        "x = 5\n",
        "print(x > 2 and x < 10)\n"
      ],
      "execution_count": null,
      "outputs": [
        {
          "output_type": "stream",
          "name": "stdout",
          "text": [
            "True\n"
          ]
        }
      ]
    },
    {
      "cell_type": "markdown",
      "metadata": {
        "id": "Kx-9YgEdE5r1"
      },
      "source": [
        "x = 5 ==> [x > 3] true\n",
        "\n",
        "[x < 10] TRUE\n",
        "\n",
        "[x > 3] and [ x<10] ==> True and true ==>\n"
      ]
    },
    {
      "cell_type": "code",
      "metadata": {
        "colab": {
          "base_uri": "https://localhost:8080/"
        },
        "id": "CEVkj3vvFBJV",
        "outputId": "bd48e976-34e5-4d68-81f5-ecb9433503c1"
      },
      "source": [
        "x = 5\n",
        "print(x > 3 and x > 9)"
      ],
      "execution_count": null,
      "outputs": [
        {
          "output_type": "stream",
          "name": "stdout",
          "text": [
            "False\n"
          ]
        }
      ]
    },
    {
      "cell_type": "markdown",
      "metadata": {
        "id": "6k4bTzqGFPyX"
      },
      "source": [
        "x- 5 ==> [x > 3] True |[ x>10] False\n",
        "\n",
        "[True] and [False]==> False\n",
        "\n",
        "[True] and [True]==> True\n",
        "\n",
        "[True] and [False]==>False\n",
        "\n",
        "[False] and [True]==>False\n",
        "\n",
        "[False] and [False]==>False\n"
      ]
    },
    {
      "cell_type": "markdown",
      "metadata": {
        "id": "O4uRVjHToiRm"
      },
      "source": [
        "## **Slice Operation**"
      ]
    },
    {
      "cell_type": "code",
      "metadata": {
        "colab": {
          "base_uri": "https://localhost:8080/"
        },
        "id": "eMiCaRacoprx",
        "outputId": "adc9a50f-72c1-4cd9-9031-9c16d7168242"
      },
      "source": [
        "b = \"Waves\"\n",
        "print(b[3:5])"
      ],
      "execution_count": null,
      "outputs": [
        {
          "output_type": "stream",
          "name": "stdout",
          "text": [
            "es\n"
          ]
        }
      ]
    },
    {
      "cell_type": "code",
      "metadata": {
        "colab": {
          "base_uri": "https://localhost:8080/"
        },
        "id": "bKCaHlHipCjW",
        "outputId": "ae25401f-a446-4976-9142-2473592f46b3"
      },
      "source": [
        "b = \"Waves\"\n",
        "print(b[:4])"
      ],
      "execution_count": null,
      "outputs": [
        {
          "output_type": "stream",
          "name": "stdout",
          "text": [
            "Wave\n"
          ]
        }
      ]
    },
    {
      "cell_type": "code",
      "metadata": {
        "colab": {
          "base_uri": "https://localhost:8080/"
        },
        "id": "RxUlJMbgpWqZ",
        "outputId": "d9591c94-9ac2-4f53-92cf-6be4a1b123b3"
      },
      "source": [
        "b = \"Waves\"\n",
        "print(b[2:])"
      ],
      "execution_count": null,
      "outputs": [
        {
          "output_type": "stream",
          "name": "stdout",
          "text": [
            "ves\n"
          ]
        }
      ]
    },
    {
      "cell_type": "code",
      "metadata": {
        "colab": {
          "base_uri": "https://localhost:8080/"
        },
        "id": "Dog84VV-pgqS",
        "outputId": "63f84c53-fd50-46b0-bc95-f694a0c21948"
      },
      "source": [
        "b = \"Waves\"\n",
        "print(b[-2:-1])\n"
      ],
      "execution_count": null,
      "outputs": [
        {
          "output_type": "stream",
          "name": "stdout",
          "text": [
            "e\n"
          ]
        }
      ]
    },
    {
      "cell_type": "markdown",
      "metadata": {
        "id": "3wX9NctfqFep"
      },
      "source": [
        "## **Python String Method**"
      ]
    },
    {
      "cell_type": "code",
      "metadata": {
        "colab": {
          "base_uri": "https://localhost:8080/"
        },
        "id": "cfj2NJpZqPvi",
        "outputId": "b434ce00-61d8-47a7-f256-9a93ca131416"
      },
      "source": [
        "Jade = \"Diamante\"\n",
        "x = Jade.capitalize()\n",
        "print (x)"
      ],
      "execution_count": null,
      "outputs": [
        {
          "output_type": "stream",
          "name": "stdout",
          "text": [
            "Diamante\n"
          ]
        }
      ]
    },
    {
      "cell_type": "markdown",
      "metadata": {
        "id": "frKMTcd_s3QX"
      },
      "source": [
        "## **Join Method**"
      ]
    },
    {
      "cell_type": "code",
      "metadata": {
        "id": "YFcj3D8Ds9IO"
      },
      "source": [
        "join = (\"always\" , \"Smile\")\n",
        "x = \"-\".join(join)\n",
        "print = (x)"
      ],
      "execution_count": 83,
      "outputs": []
    },
    {
      "cell_type": "markdown",
      "metadata": {
        "id": "vMnHenlG6z8n"
      },
      "source": [
        "## **JUST METHOD**"
      ]
    },
    {
      "cell_type": "code",
      "metadata": {
        "id": "JSN0fTCZ65xb"
      },
      "source": [
        "hey = \"jill\"\n",
        "x = hey.ljust(14)\n",
        "print (x,\"Good mornig.\")"
      ],
      "execution_count": 85,
      "outputs": []
    },
    {
      "cell_type": "markdown",
      "metadata": {
        "id": "BviLNj7v1v-R"
      },
      "source": [
        "## **List Data Type**\n"
      ]
    },
    {
      "cell_type": "code",
      "metadata": {
        "id": "vOqUo3nv1_a9"
      },
      "source": [
        "list1 = [80, 13, 14, 12, 30, 31]"
      ],
      "execution_count": null,
      "outputs": []
    },
    {
      "cell_type": "code",
      "metadata": {
        "colab": {
          "base_uri": "https://localhost:8080/"
        },
        "id": "mf9af8_d2CpG",
        "outputId": "02bff1aa-7bdc-4c03-94c4-1d99f3455d93"
      },
      "source": [
        "list1 = [80, 13, 14, 12, 30, 31]\n",
        "\n",
        "list1[1]\n",
        "list1[-2]\n",
        "list1[1:3]\n"
      ],
      "execution_count": null,
      "outputs": [
        {
          "output_type": "execute_result",
          "data": {
            "text/plain": [
              "[13, 14]"
            ]
          },
          "metadata": {},
          "execution_count": 67
        }
      ]
    },
    {
      "cell_type": "markdown",
      "metadata": {
        "id": "zrrZa_Y02oin"
      },
      "source": [
        "## **This Dict**"
      ]
    },
    {
      "cell_type": "code",
      "metadata": {
        "id": "asROvIy-_tuM"
      },
      "source": [
        "hisdict = {\n",
        "    \"brand\": \"Butterfly\",\n",
        "    \"Model\": \"Viscaria\",\n",
        "    \"Made In\": \"Japan\"\n",
        "}\n",
        "print(thisdict)"
      ],
      "execution_count": null,
      "outputs": []
    },
    {
      "cell_type": "code",
      "metadata": {
        "id": "e2DYrW7v_xvr"
      },
      "source": [
        "print(\"thisdicst[Model]:\",thisdict['Model'])"
      ],
      "execution_count": null,
      "outputs": []
    }
  ]
}