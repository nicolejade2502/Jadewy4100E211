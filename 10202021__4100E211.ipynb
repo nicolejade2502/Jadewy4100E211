{
  "nbformat": 4,
  "nbformat_minor": 0,
  "metadata": {
    "colab": {
      "name": "10202021_ 4100E211.ipynb",
      "provenance": [],
      "authorship_tag": "ABX9TyNzwzd/5zrogeGOQ7CkHAsc",
      "include_colab_link": true
    },
    "kernelspec": {
      "name": "python3",
      "display_name": "Python 3"
    },
    "language_info": {
      "name": "python"
    }
  },
  "cells": [
    {
      "cell_type": "markdown",
      "metadata": {
        "id": "view-in-github",
        "colab_type": "text"
      },
      "source": [
        "<a href=\"https://colab.research.google.com/github/nicolejade2502/Jadewy4100E211/blob/main/10202021__4100E211.ipynb\" target=\"_parent\"><img src=\"https://colab.research.google.com/assets/colab-badge.svg\" alt=\"Open In Colab\"/></a>"
      ]
    },
    {
      "cell_type": "code",
      "metadata": {
        "colab": {
          "base_uri": "https://localhost:8080/"
        },
        "id": "DcXtdTY0RPYt",
        "outputId": "6678e15e-4d51-4508-a0d6-ea7660214d0d"
      },
      "source": [
        "def sum(i1, i2,i3):\n",
        "  result = 0\n",
        "  for i in range(i1, i2, i3):\n",
        "      result += i\n",
        "      return result\n",
        "\n",
        "def main ():\n",
        "  print(\"Sum from 5 to 30 is\", sum(5, 30, 1))\n",
        "  print(\"sum from 22 to 50 is\", sum(3, 50, 2))\n",
        "  print(\"sum from 10 to 40 is\",sum(7, 40, 3))\n",
        "\n",
        "main() # Call the main function"
      ],
      "execution_count": 53,
      "outputs": [
        {
          "output_type": "stream",
          "name": "stdout",
          "text": [
            "Sum from 5 to 30 is 5\n",
            "sum from 22 to 50 is 3\n",
            "sum from 10 to 40 is 7\n"
          ]
        }
      ]
    },
    {
      "cell_type": "code",
      "metadata": {
        "colab": {
          "base_uri": "https://localhost:8080/"
        },
        "id": "zl9-b_dfRzWr",
        "outputId": "efeaa848-41ad-42b0-c9f5-13f534a13257"
      },
      "source": [
        "def swap(k,n):\n",
        "  k,n = n,k\n",
        "  return(k,n)\n",
        "\n",
        "if __name__ == '__main__':\n",
        "  k = 19\n",
        "  n = 25\n",
        "  print('k = %d,n = %d' % (k,n))\n",
        "  k,n = swap(k,n)\n",
        "  print('k = %d,n = %d' % (k,n))"
      ],
      "execution_count": 21,
      "outputs": [
        {
          "output_type": "stream",
          "name": "stdout",
          "text": [
            "k = 19,n = 25\n",
            "k = 25,n = 19\n"
          ]
        }
      ]
    },
    {
      "cell_type": "code",
      "metadata": {
        "colab": {
          "base_uri": "https://localhost:8080/"
        },
        "id": "9J-9vFaFYWv7",
        "outputId": "77c3aebf-ed3d-441a-bbf2-125ff2396f4b"
      },
      "source": [
        "def sort(number1, number2, number3):\n",
        "    if (number1 < number2) and (number1 < number3):\n",
        "      if number2 < number3:\n",
        "        return number1, number2,number3\n",
        "      else:\n",
        "        return number1, number3,number2\n",
        "    if (number2 < number1) and (number2 < number3):\n",
        "      if number1 < number3:\n",
        "        return number2, number1,number3\n",
        "      else:\n",
        "        return number2, number3,number1    \n",
        "    if (number3 < number1) and (number3 < number2):\n",
        "      if number1 < number2:\n",
        "        return number3, number1,number2\n",
        "      else:\n",
        "        return number3, number2,number1 \n",
        "        \n",
        "num1,num2,num3 = sort(3,31,20)\n",
        "\n",
        "print(\"num1 is\", num1)\n",
        "print(\"num2 is\", num2)\n",
        "print(\"num3 is\", num3)"
      ],
      "execution_count": 51,
      "outputs": [
        {
          "output_type": "stream",
          "name": "stdout",
          "text": [
            "num1 is 3\n",
            "num2 is 20\n",
            "num3 is 31\n"
          ]
        }
      ]
    },
    {
      "cell_type": "code",
      "metadata": {
        "id": "9Ir800RVi1GJ"
      },
      "source": [
        "#!/usr/bin/python \n",
        "# -*- coding: UTF-8 -*- \n",
        "\n",
        "def printArea(width = 21, height = 26):\n",
        "    area = width * height\n",
        "    print(\"width:\", width, \"\\theight:\", height, \"\\tarea:\", area)"
      ],
      "execution_count": 65,
      "outputs": []
    },
    {
      "cell_type": "markdown",
      "metadata": {
        "id": "xHiAIErag54t"
      },
      "source": [
        "## **default arguments**"
      ]
    },
    {
      "cell_type": "code",
      "metadata": {
        "colab": {
          "base_uri": "https://localhost:8080/"
        },
        "id": "SK4JCHcJiW5o",
        "outputId": "f9949918-9256-4678-928f-f65d050e6681"
      },
      "source": [
        "printArea()"
      ],
      "execution_count": 68,
      "outputs": [
        {
          "output_type": "stream",
          "name": "stdout",
          "text": [
            "width: 21 \theight: 26 \tarea: 546\n"
          ]
        }
      ]
    },
    {
      "cell_type": "markdown",
      "metadata": {
        "id": "iZzInjyIhHJO"
      },
      "source": [
        "## **Keyword arguments**"
      ]
    },
    {
      "cell_type": "code",
      "metadata": {
        "colab": {
          "base_uri": "https://localhost:8080/"
        },
        "id": "p8DA5O5ticlR",
        "outputId": "f18fe874-1520-4d2c-b9a7-64436d031c70"
      },
      "source": [
        "printArea(width = 11 , height = 20)"
      ],
      "execution_count": 66,
      "outputs": [
        {
          "output_type": "stream",
          "name": "stdout",
          "text": [
            "width: 11 \theight: 20 \tarea: 220\n"
          ]
        }
      ]
    },
    {
      "cell_type": "code",
      "metadata": {
        "colab": {
          "base_uri": "https://localhost:8080/"
        },
        "id": "f91VDE2njOiQ",
        "outputId": "83dec863-cb6f-4ea9-b841-b09a12ff86f4"
      },
      "source": [
        "printArea(height = 20, width = 11)"
      ],
      "execution_count": 67,
      "outputs": [
        {
          "output_type": "stream",
          "name": "stdout",
          "text": [
            "width: 11 \theight: 20 \tarea: 220\n"
          ]
        }
      ]
    },
    {
      "cell_type": "markdown",
      "metadata": {
        "id": "rpJUMZGXhkON"
      },
      "source": [
        "## **Positional arguments**"
      ]
    },
    {
      "cell_type": "code",
      "metadata": {
        "id": "gLgJN4YCjaHN"
      },
      "source": [
        "printArea(11,20)"
      ],
      "execution_count": null,
      "outputs": []
    },
    {
      "cell_type": "code",
      "metadata": {
        "colab": {
          "base_uri": "https://localhost:8080/"
        },
        "id": "EUEM_Yf9jf67",
        "outputId": "10ed8ff3-bf0d-4579-b313-2063e1d27e4b"
      },
      "source": [
        "printArea(20,11)"
      ],
      "execution_count": 69,
      "outputs": [
        {
          "output_type": "stream",
          "name": "stdout",
          "text": [
            "width: 20 \theight: 11 \tarea: 220\n"
          ]
        }
      ]
    },
    {
      "cell_type": "code",
      "metadata": {
        "id": "dlMQIjNrj8Ma"
      },
      "source": [
        "f1 = lambda x, y, z: x+4*y+5*z\n",
        "print(f1(3,31,20))"
      ],
      "execution_count": null,
      "outputs": []
    },
    {
      "cell_type": "code",
      "metadata": {
        "colab": {
          "base_uri": "https://localhost:8080/"
        },
        "id": "cr1dNzCykjGE",
        "outputId": "c5d9b52b-1512-453e-bb5f-5214fad42e16"
      },
      "source": [
        "def myfunc(m):\n",
        "    return m*m\n",
        "\n",
        "my_list = [9, 25, 2, 11, 31]\n",
        "\n",
        "## 使用python的map()\n",
        "\n",
        "print(list(map(lambda x:myfunc(x), my_list)))"
      ],
      "execution_count": 70,
      "outputs": [
        {
          "output_type": "stream",
          "name": "stdout",
          "text": [
            "[81, 625, 4, 121, 961]\n"
          ]
        }
      ]
    }
  ]
}